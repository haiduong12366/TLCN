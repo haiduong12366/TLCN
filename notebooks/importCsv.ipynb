{
 "cells": [
  {
   "cell_type": "code",
   "execution_count": 1,
   "metadata": {},
   "outputs": [
    {
     "name": "stdout",
     "output_type": "stream",
     "text": [
      "Collecting mysql-connector-python\n",
      "  Downloading mysql_connector_python-9.1.0-cp311-cp311-manylinux_2_28_x86_64.whl.metadata (6.0 kB)\n",
      "Downloading mysql_connector_python-9.1.0-cp311-cp311-manylinux_2_28_x86_64.whl (34.4 MB)\n",
      "\u001b[2K   \u001b[90m━━━━━━━━━━━━━━━━━━━━━━━━━━━━━━━━━━━━━━━━\u001b[0m \u001b[32m34.4/34.4 MB\u001b[0m \u001b[31m6.0 MB/s\u001b[0m eta \u001b[36m0:00:00\u001b[0m00:01\u001b[0m00:01\u001b[0m\n",
      "\u001b[?25hInstalling collected packages: mysql-connector-python\n",
      "Successfully installed mysql-connector-python-9.1.0\n",
      "Note: you may need to restart the kernel to use updated packages.\n"
     ]
    }
   ],
   "source": [
    "pip install mysql-connector-python"
   ]
  },
  {
   "cell_type": "code",
   "execution_count": 2,
   "metadata": {},
   "outputs": [
    {
     "name": "stdout",
     "output_type": "stream",
     "text": [
      "inserted successfully!\n"
     ]
    }
   ],
   "source": [
    "import pandas as pd\n",
    "import mysql.connector\n",
    "import os\n",
    "\n",
    "# Load the CSV file into a pandas DataFrame\n",
    "file_path = 'train.csv'\n",
    "df = pd.read_csv(file_path)\n",
    "\n",
    "# Extract the file name (without extension) to use as table name\n",
    "table_name = os.path.splitext(os.path.basename(file_path))[0]\n",
    "\n",
    "# Clean the data, replacing 'NA' or NaN values with None (which will map to NULL in MySQL)\n",
    "df = df.where(pd.notnull(df), None)\n",
    "\n",
    "# Connect to MySQL database\n",
    "connection = mysql.connector.connect(\n",
    "    host='mysql',  # Your MySQL host\n",
    "    user='haiduong',  # Your MySQL username\n",
    "    password='haiduong',  # Your MySQL password\n",
    "    database='tlcn'  # Your database name\n",
    ")\n",
    "\n",
    "cursor = connection.cursor()\n",
    "\n",
    "def get_mysql_type(column):\n",
    "    if pd.api.types.is_integer_dtype(column):\n",
    "        return \"INT\"\n",
    "    elif pd.api.types.is_float_dtype(column):\n",
    "        return \"FLOAT\"\n",
    "    elif pd.api.types.is_object_dtype(column):\n",
    "        return \"VARCHAR(255)\"  # Adjust VARCHAR size as needed\n",
    "    else:\n",
    "        return \"TEXT\"  # Default type for other types\n",
    "\n",
    "# Prepare a CREATE TABLE statement dynamically\n",
    "create_table_query = f\"CREATE TABLE IF NOT EXISTS {table_name} (\\n\"\n",
    "\n",
    "# Loop through the columns in the DataFrame to define column types\n",
    "for i, col in enumerate(df.columns):\n",
    "    mysql_type = get_mysql_type(df[col])\n",
    "    if i == 0:  # Assuming the first column should be the primary key\n",
    "        create_table_query += f\"  `{col}` {mysql_type} PRIMARY KEY,\\n\"\n",
    "    else:\n",
    "        create_table_query += f\"  `{col}` {mysql_type},\\n\"\n",
    "\n",
    "# Remove the last comma and close the query\n",
    "create_table_query = create_table_query.rstrip(',\\n') + \"\\n);\"\n",
    "\n",
    "# Execute the CREATE TABLE query\n",
    "cursor.execute(create_table_query)\n",
    "connection.commit()\n",
    "\n",
    "# Prepare an INSERT query dynamically\n",
    "columns = \", \".join([f\"`{col}`\" for col in df.columns])\n",
    "placeholders = \", \".join([\"%s\"] * len(df.columns))\n",
    "insert_query = f\"INSERT INTO {table_name} ({columns}) VALUES ({placeholders})\"\n",
    "\n",
    "# Insert data row by row\n",
    "for index, row in df.iterrows():\n",
    "    cursor.execute(insert_query, tuple(row))\n",
    "\n",
    "# Commit the transaction\n",
    "connection.commit()\n",
    "\n",
    "# Close the cursor and connection\n",
    "cursor.close()\n",
    "connection.close()\n",
    "\n",
    "print(\"inserted successfully!\")\n"
   ]
  },
  {
   "cell_type": "code",
   "execution_count": null,
   "metadata": {},
   "outputs": [],
   "source": []
  }
 ],
 "metadata": {
  "kernelspec": {
   "display_name": "Python 3 (ipykernel)",
   "language": "python",
   "name": "python3"
  },
  "language_info": {
   "codemirror_mode": {
    "name": "ipython",
    "version": 3
   },
   "file_extension": ".py",
   "mimetype": "text/x-python",
   "name": "python",
   "nbconvert_exporter": "python",
   "pygments_lexer": "ipython3",
   "version": "3.11.6"
  }
 },
 "nbformat": 4,
 "nbformat_minor": 4
}
